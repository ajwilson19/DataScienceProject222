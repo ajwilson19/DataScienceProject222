{
 "cells": [
  {
   "cell_type": "markdown",
   "id": "94acbb7d-cdea-4a16-a65b-722e55e497b6",
   "metadata": {},
   "source": [
    "# Data Project AJ Wilson\n",
    "## CPSC222 Fall 2021"
   ]
  },
  {
   "cell_type": "markdown",
   "id": "c583f245-52e5-4f1d-95e9-65f1bbde2ce0",
   "metadata": {},
   "source": [
    "The data I am analyzing in this project is the nutrition information for each meal I ate this summer. I will be researching it to better understand my habits and try to optimize "
   ]
  },
  {
   "cell_type": "markdown",
   "id": "faf92c6c-712f-413e-9477-6a03f5a1ca5e",
   "metadata": {},
   "source": [
    "### Prepare the Data"
   ]
  },
  {
   "cell_type": "code",
   "execution_count": 1,
   "id": "042ed9df-4f4a-4e05-92c1-5f7b0613c395",
   "metadata": {},
   "outputs": [],
   "source": [
    "import pandas as pd\n",
    "nutrition_df = pd.read_csv(\"nutrition.csv\")\n",
    "gym_df = pd.read_csv(\"gym_checkin.csv\")\n",
    "dow_df = pd.read_csv(\"days_of_week_9-20-20_9-20-21.csv\")\n",
    "weight_df = pd.read_csv('weight.csv')"
   ]
  },
  {
   "cell_type": "markdown",
   "id": "e617b691-1cca-432a-99d6-9cb98390b15b",
   "metadata": {
    "tags": []
   },
   "source": [
    "Using the pandas library, I loaded in a csv containing the nutrition information from myFitnessPal, an app that logs your meals. I also loaded a csv of my check-in history for my local gym and the csv containing the dates and days of the week from DA3. The nutrition dataframe contains all the macronutrient contents of the four meals: Breakfast, Lunch, Dinner, and Snack I ate. A few of the various attributes I decided to disregard were the different types of fat, cholesterol, sodium, fiber, and vitamin and mineral intakes. The attributes I decided to keep and mine were Calories, Fat, Carbohydrate, Sugar, and Protein. I believe that these are the most likely to ..."
   ]
  },
  {
   "cell_type": "code",
   "execution_count": 2,
   "id": "b88c23b6-b125-4a40-bf44-d2d362ce7666",
   "metadata": {},
   "outputs": [
    {
     "name": "stdout",
     "output_type": "stream",
     "text": [
      "          Date       Meal  Calories  Fat (g)  Sodium (mg)  Carbohydrates (g)  \\\n",
      "0    5/12/2021  Breakfast    1148.8     50.8        650.8               87.4   \n",
      "1    5/12/2021      Lunch      32.5      0.0        130.0               13.0   \n",
      "2    5/12/2021     Dinner    1210.0     74.0       3495.0               78.0   \n",
      "3    5/12/2021     Snacks     580.0      4.5        310.0               85.5   \n",
      "4    5/19/2021  Breakfast     440.0     12.0       1000.0               58.0   \n",
      "..         ...        ...       ...      ...          ...                ...   \n",
      "248  8/18/2021     Dinner     146.7      1.3        100.0                0.0   \n",
      "249  8/18/2021     Snacks     480.0      6.5       1570.0               57.0   \n",
      "250  8/19/2021  Breakfast     160.0      3.0        210.0                5.0   \n",
      "251  8/19/2021      Lunch     990.0     49.0       1980.0               78.0   \n",
      "252  8/19/2021     Snacks    1335.0     34.0       2445.0              169.5   \n",
      "\n",
      "     Sugar  Protein (g)  \n",
      "0     58.0         87.0  \n",
      "1      0.0          0.0  \n",
      "2     40.0         61.0  \n",
      "3     66.0         56.1  \n",
      "4      4.0         23.0  \n",
      "..     ...          ...  \n",
      "248    0.0         32.0  \n",
      "249   32.0         47.0  \n",
      "250    1.0         30.0  \n",
      "251    4.0         45.0  \n",
      "252   91.0         90.0  \n",
      "\n",
      "[253 rows x 8 columns]\n"
     ]
    }
   ],
   "source": [
    "#print(nutrition_df.columns)\n",
    "nutrition_df.drop(labels=['Note', 'Saturated Fat', 'Polyunsaturated Fat',\n",
    "       'Monounsaturated Fat', 'Trans Fat', 'Cholesterol',\n",
    "       'Potassium', 'Vitamin A', 'Vitamin C', 'Calcium', 'Iron', 'Fiber'], axis='columns', inplace=True)\n",
    "print(nutrition_df)"
   ]
  },
  {
   "cell_type": "code",
   "execution_count": 3,
   "id": "f3e2e17d-3b7f-4bdb-922f-3140cef5e393",
   "metadata": {},
   "outputs": [
    {
     "name": "stdout",
     "output_type": "stream",
     "text": [
      "Gym checkin in dates: ['05/07/21' '05/08/21' '05/09/21' '05/10/21' '05/11/21' '05/12/21'\n",
      " '05/13/21' '05/14/21' '05/15/21' '05/16/21']\n",
      "Days of the week dates: ['9/25/20' '9/26/20' '9/27/20' '9/28/20' '9/29/20' '9/30/20' '10/1/20'\n",
      " '10/2/20' '10/3/20' '10/4/20']\n"
     ]
    }
   ],
   "source": [
    "#print(dow_df)\n",
    "print(\"Gym checkin in dates:\", gym_df['Date'].values[0:10])\n",
    "print(\"Days of the week dates:\", dow_df['Date'].values[5:15])"
   ]
  },
  {
   "cell_type": "markdown",
   "id": "6033f080-575b-4c5d-bde2-99fd7978c296",
   "metadata": {},
   "source": [
    "The console output shows that the dates in the gym check-in dataframe are formatted differently than those in the days of the week dataframe. I have to fix that in order to merge them properly. In the code below, I iterate through the date values in the gym check-in dataframe and update the ones with improper formatting."
   ]
  },
  {
   "cell_type": "code",
   "execution_count": 4,
   "id": "414d33b8-424b-40b1-95bd-49fb5fca9706",
   "metadata": {},
   "outputs": [
    {
     "name": "stdout",
     "output_type": "stream",
     "text": [
      "Gym checkin in dates: ['5/7/21' '5/8/21' '5/9/21' '5/10/21' '5/11/21' '5/12/21' '5/13/21'\n",
      " '5/14/21' '5/15/21' '5/16/21' '5/17/21' '5/18/21' '5/19/21' '5/20/21'\n",
      " '5/21/21' '5/22/21' '5/23/21' '5/24/21' '5/25/21' '5/26/21' '5/27/21'\n",
      " '5/28/21' '5/29/21' '5/30/21' '5/31/21' '6/1/21' '6/2/21' '6/3/21'\n",
      " '6/4/21' '6/5/21' '6/6/21' '6/7/21' '6/8/21' '6/9/21' '6/10/21' '6/11/21'\n",
      " '6/12/21' '6/13/21' '6/14/21' '6/15/21' '6/16/21' '6/17/21' '6/18/21'\n",
      " '6/19/21' '6/20/21' '6/21/21' '6/22/21' '6/23/21' '6/24/21' '6/25/21'\n",
      " '6/26/21' '6/27/21' '6/28/21' '6/29/21' '6/30/21' '7/1/21' '7/2/21'\n",
      " '7/3/21' '7/4/21' '7/5/21' '7/6/21' '7/7/21' '7/8/21' '7/9/21' '7/10/21'\n",
      " '7/11/21' '7/12/21' '7/13/21' '7/14/21' '7/15/21' '7/16/21' '7/17/21'\n",
      " '7/18/21' '7/19/21' '7/20/21' '7/21/21' '7/22/21' '7/23/21' '7/24/21'\n",
      " '7/25/21' '7/26/21' '7/27/21' '7/28/21' '7/29/21' '7/30/21' '7/31/21'\n",
      " '8/1/21' '8/2/21' '8/3/21' '8/4/21' '8/5/21' '8/6/21' '8/7/21' '8/8/21'\n",
      " '8/9/21' '8/10/21' '8/11/21' '8/12/21' '8/13/21' '8/14/21' '8/15/21'\n",
      " '8/16/21' '8/17/21' '8/18/21' '8/19/21']\n"
     ]
    }
   ],
   "source": [
    "ser = []\n",
    "for date in gym_df['Date'].values:\n",
    "    date = date[1:]\n",
    "    if(date[2]=='0'):\n",
    "        date = date[0:2]+date[3:]\n",
    "    #print(date)\n",
    "    ser.append(date)\n",
    "ser = pd.Series(ser) \n",
    "gym_df['Date'] = ser\n",
    "print(\"Gym checkin in dates:\", gym_df['Date'].values)\n",
    "# #print(gym_df)"
   ]
  },
  {
   "cell_type": "markdown",
   "id": "ab23e8a0-6bfe-4205-a09f-f48a9d251c20",
   "metadata": {},
   "source": [
    "After formatting the dates, I am able to merge the dataframes into a single dataframe. I used groupby to gather each day's total macronutrient intake from the nutrition dataframe. I completed an inner merge between my gym checkin and day of week dataframes on the 'Date' column. I outer merged that dataframe with the weights and interpolated my missing weight values.  I then outer merged my merged_df with my nutrition dataframe and filled the missing nutrition values with zeros."
   ]
  },
  {
   "cell_type": "code",
   "execution_count": 5,
   "id": "0a5c2251-7cdc-45a1-9add-b87d5ebb0aa4",
   "metadata": {},
   "outputs": [],
   "source": [
    "nutrition_df['Date'] = pd.to_datetime(nutrition_df['Date']) #convert to datetime\n",
    "daily_totals = nutrition_df.sort_values('Date').groupby('Date').sum()\n",
    "\n",
    "\n",
    "weight_df['Date'] = pd.to_datetime(weight_df['Date'])\n",
    "weight_df.set_index(\"Date\",inplace=True)\n",
    "#print(weight_df)\n",
    "\n",
    "merged_df = pd.merge(gym_df, dow_df, on='Date')\n",
    "merged_df['Date'] = pd.to_datetime(merged_df['Date'])\n",
    "merged_df = merged_df.merge(weight_df, how='outer', on='Date')\n",
    "merged_df = merged_df.interpolate()\n",
    "merged_df = merged_df.dropna()\n",
    "#print(merged_df.values)\n",
    "\n",
    "#print(daily_totals)\n",
    "#print(average_meal)\n",
    "\n",
    "data = merged_df.merge(daily_totals, on='Date', how=\"outer\")\n",
    "data.set_index(\"Date\",inplace=True)\n",
    "na_df = data.copy() #saves a df with na instead of zero for consistency comparison\n",
    "data.fillna(0, inplace=True)\n",
    "# data.to_csv(\"cleaned.csv\")\n",
    "#print(data)"
   ]
  },
  {
   "cell_type": "markdown",
   "id": "5cbc08f4-9d92-49bf-ab83-be157ff02e85",
   "metadata": {},
   "source": [
    "### Data Analysis"
   ]
  },
  {
   "cell_type": "code",
   "execution_count": 6,
   "id": "33b1f8d8-b6d1-4c84-82e8-6dacca741972",
   "metadata": {},
   "outputs": [
    {
     "data": {
      "text/plain": [
       "<matplotlib.legend.Legend at 0x1b4de874d90>"
      ]
     },
     "execution_count": 6,
     "metadata": {},
     "output_type": "execute_result"
    },
    {
     "data": {
      "image/png": "[encoded data removed]",
      "text/plain": [
       "<Figure size 432x288 with 1 Axes>"
      ]
     },
     "metadata": {
      "needs_background": "light"
     },
     "output_type": "display_data"
    }
   ],
   "source": [
    "import matplotlib.pyplot as plt\n",
    "d = (na_df.groupby('Day of Week').count()['Calories'])\n",
    "# d.plot(kind='bar')\n",
    "for i in range(d.size):\n",
    "    plt.bar(i, d.iloc[i], label=d.index[i])\n",
    "    plt.ylabel('Instances')\n",
    "plt.legend()"
   ]
  },
  {
   "cell_type": "markdown",
   "id": "c0315102-bb7e-4767-9d42-542216007247",
   "metadata": {},
   "source": [
    "My eating data is not complete. There are missing days when I did not log what I ate. I am unable to account for these missing values because the pandas methods to fill missing values (interpolate, backfill, etc..) would not accurately depict how I ate on these days. On the days I did not track what I ate I would make poorer food decisions and eat well above my calorie goal and fail to meet my protein goals. However, I could not account for this without making up the missing values so I set them to zeros. The graph above is the number of occurances of each day of the week in my data set. With this visualization I am able to see which day I most frequently failed to log my food intake. Saturday was the least frequent day I completed my food log, followed closely by Friday. This is likely because on these days I was more likely to fall off my diet."
   ]
  },
  {
   "cell_type": "code",
   "execution_count": 7,
   "id": "42dd086e-ecf5-4051-9451-273cf017657a",
   "metadata": {},
   "outputs": [
    {
     "data": {
      "text/plain": [
       "<AxesSubplot:xlabel='Date'>"
      ]
     },
     "execution_count": 7,
     "metadata": {},
     "output_type": "execute_result"
    },
    {
     "data": {
      "image/png": "[encoded data removed]",
      "text/plain": [
       "<Figure size 432x288 with 1 Axes>"
      ]
     },
     "metadata": {
      "needs_background": "light"
     },
     "output_type": "display_data"
    }
   ],
   "source": [
    "na_df['Protein (g)'].plot()\n",
    "#na_df['Carbohydrates (g)'].plot()\n",
    "data['Weight'].plot()"
   ]
  },
  {
   "cell_type": "markdown",
   "id": "32fa33b4-5b53-4914-b1cd-df64281d848b",
   "metadata": {},
   "source": [
    "This visualization shows that my weight increases during time periods without Protein data. This would imply I am gaining weight when I am not tracking my food and being concious about what I eat."
   ]
  },
  {
   "cell_type": "code",
   "execution_count": 8,
   "id": "e0c6431f-1022-4015-8fb8-291d9c845bc5",
   "metadata": {},
   "outputs": [
    {
     "name": "stdout",
     "output_type": "stream",
     "text": [
      "-0.13666494838425736\n"
     ]
    }
   ],
   "source": [
    "import scipy.stats as stats\n",
    "m, b, r, p_val, std_err = stats.linregress(data['Calories'], data['Weight'])\n",
    "print(r)"
   ]
  },
  {
   "cell_type": "markdown",
   "id": "bf63c09f-95b0-4616-b359-8f2a391f932d",
   "metadata": {},
   "source": [
    "You would expect a positive correlation between calories and weight. However, because I replaced missing values in the nutrition dataframe with zeros my weight increased when calories were lower creating a negative correation. This makes sense because when I was not tracking I was more likely to indulge myself and eat in a manner that resulted in me gaining weight. "
   ]
  },
  {
   "cell_type": "code",
   "execution_count": 9,
   "id": "8af82c08-35a1-4136-99b7-e52c9b41f752",
   "metadata": {},
   "outputs": [
    {
     "name": "stdout",
     "output_type": "stream",
     "text": [
      "             Calories    Fat (g)  Sodium (mg)  Carbohydrates (g)      Sugar  \\\n",
      "Meal                                                                          \n",
      "Breakfast  490.551515  15.192424   839.503030          47.128788  15.533333   \n",
      "Dinner     816.167797  37.871186  1770.037288          58.576271   9.905085   \n",
      "Lunch      952.782353  38.386765  2434.892647          82.336765  19.647059   \n",
      "Snacks     560.725000  12.610000   750.978333          56.495000  29.383333   \n",
      "\n",
      "           Protein (g)  \n",
      "Meal                    \n",
      "Breakfast    41.827273  \n",
      "Dinner       61.186441  \n",
      "Lunch        68.160294  \n",
      "Snacks       56.390000  \n"
     ]
    }
   ],
   "source": [
    "average_meal = nutrition_df.sort_values('Date').groupby('Meal').mean()\n",
    "print(average_meal)"
   ]
  },
  {
   "cell_type": "code",
   "execution_count": 10,
   "id": "dfb148b6-7d55-4119-8706-f77af0526591",
   "metadata": {},
   "outputs": [],
   "source": [
    "mealby = nutrition_df.sort_values('Date').groupby('Meal')\n",
    "breakfast_df = mealby.get_group('Breakfast')\n",
    "lunch_df = mealby.get_group('Lunch')\n",
    "dinner_df = mealby.get_group('Dinner')\n",
    "snacks_df = mealby.get_group('Snacks')"
   ]
  },
  {
   "cell_type": "markdown",
   "id": "0d88640e-93aa-4a04-b6d7-6249fe499a85",
   "metadata": {},
   "source": [
    "### Hypothesis Testing\n",
    "* $H_{0}$: significant difference of $\\alpha$ <= 0.1\n",
    "* $H_{1}$: significant difference of $\\alpha$ > 0.1"
   ]
  },
  {
   "cell_type": "code",
   "execution_count": 11,
   "id": "744f2d5f-8143-4019-8fc2-a4ef1b6119d2",
   "metadata": {},
   "outputs": [
    {
     "data": {
      "text/plain": [
       "<matplotlib.legend.Legend at 0x1b4dff33ee0>"
      ]
     },
     "execution_count": 11,
     "metadata": {},
     "output_type": "execute_result"
    },
    {
     "data": {
      "image/png": "[encoded data removed]",
      "text/plain": [
       "<Figure size 432x288 with 1 Axes>"
      ]
     },
     "metadata": {},
     "output_type": "display_data"
    }
   ],
   "source": [
    "average_meal['Calories'].plot(kind='pie')\n",
    "plt.legend()"
   ]
  },
  {
   "cell_type": "code",
   "execution_count": 12,
   "id": "196e647d-c8cf-4142-86f9-6f1988517f98",
   "metadata": {},
   "outputs": [
    {
     "name": "stdout",
     "output_type": "stream",
     "text": [
      "0.07642123125792454\n"
     ]
    }
   ],
   "source": [
    "t, p = stats.ttest_ind(lunch_df['Calories'], dinner_df['Calories'])\n",
    "print(p)"
   ]
  },
  {
   "cell_type": "markdown",
   "id": "24cfbe8a-7655-4999-a4fd-72cc5845c13b",
   "metadata": {},
   "source": [
    "This is signicant!"
   ]
  },
  {
   "cell_type": "code",
   "execution_count": 13,
   "id": "4ff626fd-f6c8-4f02-ab98-9b5a29f26fc7",
   "metadata": {
    "tags": []
   },
   "outputs": [
    {
     "data": {
      "text/plain": [
       "<matplotlib.legend.Legend at 0x1b4e03ced90>"
      ]
     },
     "execution_count": 13,
     "metadata": {},
     "output_type": "execute_result"
    },
    {
     "data": {
      "image/png": "[encoded data removed]",
      "text/plain": [
       "<Figure size 432x288 with 1 Axes>"
      ]
     },
     "metadata": {},
     "output_type": "display_data"
    }
   ],
   "source": [
    "average_meal['Sugar'].plot(kind='pie')\n",
    "plt.legend()"
   ]
  },
  {
   "cell_type": "code",
   "execution_count": 14,
   "id": "210db0df-6bc1-40cf-b917-69bd3b9d929b",
   "metadata": {},
   "outputs": [
    {
     "name": "stdout",
     "output_type": "stream",
     "text": [
      "0.08051455670614704\n"
     ]
    }
   ],
   "source": [
    "t,p = stats.ttest_ind(snacks_df['Sugar'], lunch_df['Sugar'])\n",
    "print(p)"
   ]
  },
  {
   "cell_type": "markdown",
   "id": "aaa3b371-16c3-4a27-a41d-94498e0a3370",
   "metadata": {},
   "source": [
    "This is significant!"
   ]
  },
  {
   "cell_type": "code",
   "execution_count": 15,
   "id": "f4981b15-8583-4b81-b702-91a868dff3b3",
   "metadata": {},
   "outputs": [
    {
     "data": {
      "text/plain": [
       "<matplotlib.legend.Legend at 0x1b4df02a940>"
      ]
     },
     "execution_count": 15,
     "metadata": {},
     "output_type": "execute_result"
    },
    {
     "data": {
      "image/png": "[encoded data removed]",
      "text/plain": [
       "<Figure size 432x288 with 1 Axes>"
      ]
     },
     "metadata": {},
     "output_type": "display_data"
    }
   ],
   "source": [
    "average_meal['Sodium (mg)'].plot(kind='pie')\n",
    "plt.legend()"
   ]
  },
  {
   "cell_type": "code",
   "execution_count": 16,
   "id": "8c9a9721-135f-454d-b882-de2b870cc999",
   "metadata": {},
   "outputs": [
    {
     "name": "stdout",
     "output_type": "stream",
     "text": [
      "0.010937771202004428\n"
     ]
    }
   ],
   "source": [
    "t,p = stats.ttest_ind(lunch_df['Sodium (mg)'], dinner_df['Sodium (mg)'])\n",
    "print(p)"
   ]
  },
  {
   "cell_type": "code",
   "execution_count": 17,
   "id": "2e78f03f-ca77-4b45-95be-6cefcbb6af53",
   "metadata": {},
   "outputs": [
    {
     "data": {
      "text/plain": [
       "<matplotlib.legend.Legend at 0x1b4e146a790>"
      ]
     },
     "execution_count": 17,
     "metadata": {},
     "output_type": "execute_result"
    },
    {
     "data": {
      "image/png": "[encoded data removed]",
      "text/plain": [
       "<Figure size 432x288 with 1 Axes>"
      ]
     },
     "metadata": {},
     "output_type": "display_data"
    }
   ],
   "source": [
    "average_meal['Protein (g)'].plot(kind='pie')\n",
    "plt.legend()"
   ]
  },
  {
   "cell_type": "code",
   "execution_count": 18,
   "id": "cf843527-0d23-443d-9f13-36405d110b7c",
   "metadata": {},
   "outputs": [
    {
     "name": "stdout",
     "output_type": "stream",
     "text": [
      "0.2161080924600675\n"
     ]
    }
   ],
   "source": [
    "t,p = stats.ttest_ind(lunch_df['Protein (g)'], dinner_df['Protein (g)'])\n",
    "print(p)"
   ]
  },
  {
   "cell_type": "code",
   "execution_count": 19,
   "id": "7ab68209-5867-4a7a-b342-837a7b8fc26e",
   "metadata": {},
   "outputs": [
    {
     "data": {
      "text/plain": [
       "<matplotlib.legend.Legend at 0x1b4e13fd310>"
      ]
     },
     "execution_count": 19,
     "metadata": {},
     "output_type": "execute_result"
    },
    {
     "data": {
      "image/png": "[encoded data removed]",
      "text/plain": [
       "<Figure size 432x288 with 1 Axes>"
      ]
     },
     "metadata": {},
     "output_type": "display_data"
    }
   ],
   "source": [
    "average_meal['Fat (g)'].plot(kind='pie')\n",
    "plt.legend()"
   ]
  },
  {
   "cell_type": "code",
   "execution_count": 20,
   "id": "3da942bd-c26f-4c9a-bb84-a3dedf29dee8",
   "metadata": {},
   "outputs": [
    {
     "name": "stdout",
     "output_type": "stream",
     "text": [
      "0.9021247988738681\n"
     ]
    }
   ],
   "source": [
    "t,p = stats.ttest_ind(dinner_df['Fat (g)'], lunch_df['Fat (g)'])\n",
    "print(p)"
   ]
  },
  {
   "cell_type": "code",
   "execution_count": 21,
   "id": "8263dab4-bf89-4a2c-9d70-efb07444e634",
   "metadata": {},
   "outputs": [
    {
     "data": {
      "text/plain": [
       "<matplotlib.legend.Legend at 0x1b4e1523a90>"
      ]
     },
     "execution_count": 21,
     "metadata": {},
     "output_type": "execute_result"
    },
    {
     "data": {
      "image/png": "[encoded data removed]",
      "text/plain": [
       "<Figure size 432x288 with 1 Axes>"
      ]
     },
     "metadata": {},
     "output_type": "display_data"
    }
   ],
   "source": [
    "average_meal['Carbohydrates (g)'].plot(kind='pie')\n",
    "plt.legend()"
   ]
  },
  {
   "cell_type": "code",
   "execution_count": 22,
   "id": "6107683b-bef1-4693-a9f9-3ead4b47c72d",
   "metadata": {},
   "outputs": [
    {
     "name": "stdout",
     "output_type": "stream",
     "text": [
      "0.0030639470843715198\n"
     ]
    }
   ],
   "source": [
    "t,p = stats.ttest_ind(lunch_df['Carbohydrates (g)'], dinner_df['Carbohydrates (g)'])\n",
    "print(p)"
   ]
  },
  {
   "cell_type": "markdown",
   "id": "2ff1e758-ba4f-4cde-89ea-21b765aacd49",
   "metadata": {},
   "source": [
    "This is significant!"
   ]
  },
  {
   "cell_type": "markdown",
   "id": "9c7c6f44-c1e8-4af1-a695-b1a190c8144d",
   "metadata": {},
   "source": [
    "### kNN Classification\n",
    "I am using kNN classification to try to predict which meal it was based on the nutritional information of the meal. My hypothesis is that kNN will not be successful at predicting the meal attribute because only half of my attributes were significantly more prevelant in one meal than another. My breakfast, lunch, and dinner are similar in macronutrient content so the algorithm will likely have trouble correctly classifying them."
   ]
  },
  {
   "cell_type": "code",
   "execution_count": 25,
   "id": "943c2b48-740d-42de-b74f-71846e4b25ef",
   "metadata": {},
   "outputs": [
    {
     "name": "stdout",
     "output_type": "stream",
     "text": [
      "    Calories Fat (g) Saturated Fat Polyunsaturated Fat Monounsaturated Fat  \\\n",
      "0     1148.8    50.8          19.7                 3.8                 7.3   \n",
      "1       32.5     0.0           0.0                 0.0                 0.0   \n",
      "2     1210.0    74.0          14.5                 0.0                 0.0   \n",
      "3      580.0     4.5           2.2                 0.5                 0.4   \n",
      "4      440.0    12.0           5.0                 0.0                 0.0   \n",
      "..       ...     ...           ...                 ...                 ...   \n",
      "248    146.7     1.3           0.0                 0.0                 0.0   \n",
      "249    480.0     6.5           4.0                 0.0                 1.0   \n",
      "250    160.0     3.0           1.0                 0.0                 0.0   \n",
      "251    990.0    49.0          13.5                 0.0                 0.0   \n",
      "252   1335.0    34.0          12.0                 0.0                 0.0   \n",
      "\n",
      "    Trans Fat Cholesterol Sodium (mg) Potassium Carbohydrates (g) Fiber Sugar  \\\n",
      "0         0.1       850.3       650.8     881.8              87.4   2.0  58.0   \n",
      "1         0.0         0.0       130.0       0.0              13.0   0.0   0.0   \n",
      "2         0.0       105.0      3495.0       0.0              78.0   8.0  40.0   \n",
      "3         0.0       150.0       310.0    1520.0              85.5   6.0  66.0   \n",
      "4         0.0        40.0      1000.0       2.0              58.0   2.0   4.0   \n",
      "..        ...         ...         ...       ...               ...   ...   ...   \n",
      "248       0.0        86.7       100.0     413.3               0.0   0.0   0.0   \n",
      "249       0.0       105.0      1570.0     200.0              57.0   1.0  32.0   \n",
      "250       0.0        20.0       210.0     450.0               5.0   3.0   1.0   \n",
      "251       0.0       110.0      1980.0     500.0              78.0   8.0   4.0   \n",
      "252       0.0       110.0      2445.0     900.0             169.5  12.0  91.0   \n",
      "\n",
      "    Protein (g) Vitamin A Vitamin C Calcium  Iron  \n",
      "0          87.0     332.8       0.0   745.1   5.5  \n",
      "1           0.0       0.0     390.0     0.0   0.0  \n",
      "2          61.0       0.0      80.0     2.0   0.0  \n",
      "3          56.1     280.0      81.0    96.0   8.4  \n",
      "4          23.0       0.0       0.0    20.0  20.0  \n",
      "..          ...       ...       ...     ...   ...  \n",
      "248        32.0       0.0       0.0     0.0   5.3  \n",
      "249        47.0      20.0      12.0    73.0   3.0  \n",
      "250        30.0      25.0      25.0    50.0  25.0  \n",
      "251        45.0      35.0      30.0    30.0  24.0  \n",
      "252        90.0      70.0      50.0   108.0  66.0  \n",
      "\n",
      "[253 rows x 17 columns]\n",
      "kNN: 0.421875\n"
     ]
    }
   ],
   "source": [
    "from sklearn.model_selection import train_test_split\n",
    "from sklearn.metrics import accuracy_score\n",
    "from sklearn.preprocessing import MinMaxScaler\n",
    "from sklearn.neighbors import KNeighborsClassifier\n",
    "\n",
    "df = pd.read_csv('nutrition.csv')\n",
    "df.drop(columns=['Date', 'Note'], axis=1, inplace=True) #drop attributes that cannot be normalized\n",
    "X = df.drop(columns='Meal', axis=1).astype(object)\n",
    "y = df['Meal']\n",
    "#print(X, y)\n",
    "        \n",
    "scaler= MinMaxScaler()\n",
    "X = scaler.fit_transform(X)\n",
    "\n",
    "X_train, X_test, y_train, y_test = train_test_split(X, y, random_state=0,stratify=y)\n",
    "\n",
    "knn_clf = KNeighborsClassifier(n_neighbors=7, metric=\"euclidean\")\n",
    "knn_clf.fit(X_train,y_train)\n",
    "y_predicted = knn_clf.predict(X_test)\n",
    "accuracy = accuracy_score(y_test, y_predicted)\n",
    "\n",
    "#print(y_predicted)\n",
    "print(\"kNN:\", accuracy)"
   ]
  },
  {
   "cell_type": "code",
   "execution_count": 24,
   "id": "3a4880a6-3e1f-4626-a31a-36272d1f1ba0",
   "metadata": {},
   "outputs": [
    {
     "name": "stdout",
     "output_type": "stream",
     "text": [
      "decision tree: 0.265625\n"
     ]
    }
   ],
   "source": [
    "from sklearn import tree\n",
    "# print(df)\n",
    "decision_tree = tree.DecisionTreeClassifier(max_depth = 5)\n",
    "decision_tree.fit(df.drop([\"Meal\"],axis=1).values, df[\"Meal\"])\n",
    "y_predicted = decision_tree.predict(X_test)\n",
    "\n",
    "accuracy = accuracy_score(y_test, y_predicted)\n",
    "print(\"decision tree:\", accuracy)"
   ]
  },
  {
   "cell_type": "markdown",
   "id": "b89fef1a-dfb3-46b3-93bb-ac5e76fc8ec2",
   "metadata": {},
   "source": [
    "## Sources\n",
    "* https://pandas.pydata.org/docs/index.html\n",
    "* https://matplotlib.org/stable/index.html"
   ]
  }
 ],
 "metadata": {
  "kernelspec": {
   "display_name": "Python 3",
   "language": "python",
   "name": "python3"
  },
  "language_info": {
   "codemirror_mode": {
    "name": "ipython",
    "version": 3
   },
   "file_extension": ".py",
   "mimetype": "text/x-python",
   "name": "python",
   "nbconvert_exporter": "python",
   "pygments_lexer": "ipython3",
   "version": "3.8.8"
  }
 },
 "nbformat": 4,
 "nbformat_minor": 5
}
